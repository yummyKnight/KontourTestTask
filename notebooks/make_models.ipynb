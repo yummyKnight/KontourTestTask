{
 "cells": [
  {
   "cell_type": "code",
   "execution_count": 1,
   "metadata": {
    "collapsed": true,
    "pycharm": {
     "name": "#%%\n"
    }
   },
   "outputs": [],
   "source": [
    "import numpy as np\n",
    "import pandas as pd"
   ]
  },
  {
   "cell_type": "markdown",
   "metadata": {
    "collapsed": false
   },
   "source": [
    "### TODO:\n",
    "* sklearn text\n",
    "* spaCy\n",
    "* transformers\n",
    "* Anomaly detection in NLP\n",
    "### 19.04\n",
    "* Бейзлайн за 2 часа\n",
    "* Полный pipeline для обучения за 2 часа\n",
    "* Ресерч техник, нейронки\n",
    "* Исследовать метрику (чем плоха f1)\n",
    "####\n",
    "Умные мысли\n",
    "* насколько числа играют важную роль?\n",
    "* играет ли роль стемминг?\n",
    "* играет ли роль нормализация?"
   ]
  },
  {
   "cell_type": "code",
   "execution_count": 2,
   "metadata": {
    "collapsed": false,
    "pycharm": {
     "name": "#%%\n"
    }
   },
   "outputs": [],
   "source": [
    "train_df = pd.read_csv(\"../dataset/train.tsv\", sep=\"\\t\")\n",
    "test_df = pd.read_csv(\"../dataset/train.tsv\", sep=\"\\t\")"
   ]
  },
  {
   "cell_type": "markdown",
   "metadata": {
    "collapsed": false,
    "pycharm": {
     "name": "#%% md\n"
    }
   },
   "source": [
    "# Preprcessing\n",
    "## TODO:\n",
    "* lower()\n",
    "* remove punkt\n",
    "* change digits to words"
   ]
  },
  {
   "cell_type": "code",
   "execution_count": 3,
   "metadata": {
    "collapsed": false,
    "pycharm": {
     "name": "#%%\n"
    }
   },
   "outputs": [],
   "source": [
    "import string\n",
    "from nltk.corpus import stopwords\n",
    "from num2words import num2words\n",
    "\n",
    "def text_process(mess):\n",
    "    \"\"\"\n",
    "    Takes in a string of text, then performs the following:\n",
    "    1. Remove all punctuation\n",
    "    2. Remove all stopwords\n",
    "    3. Returns a list of the cleaned text\n",
    "    \"\"\"\n",
    "    STOPWORDS = stopwords.words('russian')\n",
    "    ext_punt = string.punctuation + \"«\" + \"»\"\n",
    "    # Check characters to see if they are in punctuation\n",
    "    nopunc = [char for char in mess if char not in ext_punt]\n",
    "    # Join the characters again to form the string.\n",
    "    nopunc = ''.join(nopunc)\n",
    "\n",
    "    tokens = []\n",
    "    for token in nopunc.split(\" \"):\n",
    "        value = token\n",
    "        try:\n",
    "            value = int(token)\n",
    "            value = num2words(value, lang='ru')\n",
    "        except ValueError:\n",
    "            pass\n",
    "        finally:\n",
    "            tokens.append(value)\n",
    "\n",
    "    nopunc = \" \".join(tokens)\n",
    "    # Now just remove any stopwords\n",
    "    return ' '.join([word for word in nopunc.split() if word.lower() not in STOPWORDS])"
   ]
  },
  {
   "cell_type": "code",
   "execution_count": 4,
   "metadata": {
    "collapsed": false,
    "pycharm": {
     "name": "#%%\n"
    }
   },
   "outputs": [],
   "source": [
    "train_df['clean_title'] = train_df['title'].apply(text_process)\n",
    "# есть ли смысл убирать римские цифры и тд?"
   ]
  },
  {
   "cell_type": "code",
   "execution_count": 5,
   "metadata": {
    "collapsed": false,
    "pycharm": {
     "name": "#%%\n"
    }
   },
   "outputs": [
    {
     "data": {
      "text/plain": [
       "0       Москвичу Владимиру Клутину пришёл счёт вмешате...\n",
       "1       Агент Кокорина назвал езду встречке житейской ...\n",
       "2       Госдума рассмотрит возможность введения секрет...\n",
       "3       ФАС заблокировала поставку скоростных трамваев...\n",
       "4       Против Навального завели дело недоносительстве...\n",
       "                              ...                        \n",
       "5753     Эдди Чемберс получил сотрясение мозга бою Кличко\n",
       "5754    Правительство застроит Россию нефтепродуктопро...\n",
       "5755    стыдно дедом новый канцлер ФРГ обратился перво...\n",
       "5756         Туркмения декабре начнет поставки газа Китай\n",
       "5757    Бывший тренер Локомотива возглавил нальчикский...\n",
       "Name: clean_title, Length: 5758, dtype: object"
      ]
     },
     "execution_count": 5,
     "metadata": {},
     "output_type": "execute_result"
    }
   ],
   "source": [
    "train_df['clean_title']"
   ]
  },
  {
   "cell_type": "markdown",
   "metadata": {},
   "source": [
    "## Adding meta-features\n"
   ]
  },
  {
   "cell_type": "code",
   "execution_count": 27,
   "metadata": {},
   "outputs": [],
   "source": [
    "from slovnet import NER\n",
    "from navec import Navec\n",
    "navec = Navec.load(\"../slovnet/navec_news_v1_1B_250K_300d_100q.tar\")\n",
    "ner = NER.load(\"../slovnet/slovnet_ner_news_v1.tar\")\n",
    "ner.navec(navec)\n",
    "from collections import Counter\n",
    "def get_ner(text : str):\n",
    "    c = Counter()\n",
    "    for span in ner(text).spans:\n",
    "        c[span.type] += 1\n",
    "    return pd.Series(c.values(), index=list(c.keys()), dtype='int')"
   ]
  },
  {
   "cell_type": "code",
   "execution_count": 30,
   "metadata": {},
   "outputs": [
    {
     "data": {
      "text/html": [
       "<div>\n",
       "<style scoped>\n",
       "    .dataframe tbody tr th:only-of-type {\n",
       "        vertical-align: middle;\n",
       "    }\n",
       "\n",
       "    .dataframe tbody tr th {\n",
       "        vertical-align: top;\n",
       "    }\n",
       "\n",
       "    .dataframe thead th {\n",
       "        text-align: right;\n",
       "    }\n",
       "</style>\n",
       "<table border=\"1\" class=\"dataframe\">\n",
       "  <thead>\n",
       "    <tr style=\"text-align: right;\">\n",
       "      <th></th>\n",
       "      <th>title</th>\n",
       "      <th>is_fake</th>\n",
       "      <th>clean_title</th>\n",
       "      <th>person</th>\n",
       "      <th>organization</th>\n",
       "      <th>location</th>\n",
       "    </tr>\n",
       "  </thead>\n",
       "  <tbody>\n",
       "    <tr>\n",
       "      <th>0</th>\n",
       "      <td>Москвичу Владимиру Клутину пришёл счёт за вмеш...</td>\n",
       "      <td>1</td>\n",
       "      <td>Москвичу Владимиру Клутину пришёл счёт вмешате...</td>\n",
       "      <td>1</td>\n",
       "      <td>0</td>\n",
       "      <td>0</td>\n",
       "    </tr>\n",
       "    <tr>\n",
       "      <th>1</th>\n",
       "      <td>Агент Кокорина назвал езду по встречке житейск...</td>\n",
       "      <td>0</td>\n",
       "      <td>Агент Кокорина назвал езду встречке житейской ...</td>\n",
       "      <td>1</td>\n",
       "      <td>0</td>\n",
       "      <td>0</td>\n",
       "    </tr>\n",
       "    <tr>\n",
       "      <th>2</th>\n",
       "      <td>Госдума рассмотрит возможность введения секрет...</td>\n",
       "      <td>1</td>\n",
       "      <td>Госдума рассмотрит возможность введения секрет...</td>\n",
       "      <td>0</td>\n",
       "      <td>1</td>\n",
       "      <td>0</td>\n",
       "    </tr>\n",
       "    <tr>\n",
       "      <th>3</th>\n",
       "      <td>ФАС заблокировала поставку скоростных трамваев...</td>\n",
       "      <td>0</td>\n",
       "      <td>ФАС заблокировала поставку скоростных трамваев...</td>\n",
       "      <td>0</td>\n",
       "      <td>1</td>\n",
       "      <td>1</td>\n",
       "    </tr>\n",
       "    <tr>\n",
       "      <th>4</th>\n",
       "      <td>Против Навального завели дело о недоносительст...</td>\n",
       "      <td>1</td>\n",
       "      <td>Против Навального завели дело недоносительстве...</td>\n",
       "      <td>2</td>\n",
       "      <td>0</td>\n",
       "      <td>0</td>\n",
       "    </tr>\n",
       "    <tr>\n",
       "      <th>...</th>\n",
       "      <td>...</td>\n",
       "      <td>...</td>\n",
       "      <td>...</td>\n",
       "      <td>...</td>\n",
       "      <td>...</td>\n",
       "      <td>...</td>\n",
       "    </tr>\n",
       "    <tr>\n",
       "      <th>5753</th>\n",
       "      <td>Эдди Чемберс получил сотрясение мозга в бою с ...</td>\n",
       "      <td>0</td>\n",
       "      <td>Эдди Чемберс получил сотрясение мозга бою Кличко</td>\n",
       "      <td>2</td>\n",
       "      <td>0</td>\n",
       "      <td>0</td>\n",
       "    </tr>\n",
       "    <tr>\n",
       "      <th>5754</th>\n",
       "      <td>Правительство застроит Россию нефтепродуктопро...</td>\n",
       "      <td>0</td>\n",
       "      <td>Правительство застроит Россию нефтепродуктопро...</td>\n",
       "      <td>0</td>\n",
       "      <td>0</td>\n",
       "      <td>1</td>\n",
       "    </tr>\n",
       "    <tr>\n",
       "      <th>5755</th>\n",
       "      <td>«Мне стыдно перед дедом»: новый канцлер ФРГ об...</td>\n",
       "      <td>1</td>\n",
       "      <td>стыдно дедом новый канцлер ФРГ обратился перво...</td>\n",
       "      <td>1</td>\n",
       "      <td>0</td>\n",
       "      <td>1</td>\n",
       "    </tr>\n",
       "    <tr>\n",
       "      <th>5756</th>\n",
       "      <td>Туркмения в декабре начнет поставки газа в Китай</td>\n",
       "      <td>0</td>\n",
       "      <td>Туркмения декабре начнет поставки газа Китай</td>\n",
       "      <td>0</td>\n",
       "      <td>0</td>\n",
       "      <td>2</td>\n",
       "    </tr>\n",
       "    <tr>\n",
       "      <th>5757</th>\n",
       "      <td>Бывший тренер Локомотива возглавил нальчикский...</td>\n",
       "      <td>0</td>\n",
       "      <td>Бывший тренер Локомотива возглавил нальчикский...</td>\n",
       "      <td>0</td>\n",
       "      <td>2</td>\n",
       "      <td>0</td>\n",
       "    </tr>\n",
       "  </tbody>\n",
       "</table>\n",
       "<p>5758 rows × 6 columns</p>\n",
       "</div>"
      ],
      "text/plain": [
       "                                                  title  is_fake  \\\n",
       "0     Москвичу Владимиру Клутину пришёл счёт за вмеш...        1   \n",
       "1     Агент Кокорина назвал езду по встречке житейск...        0   \n",
       "2     Госдума рассмотрит возможность введения секрет...        1   \n",
       "3     ФАС заблокировала поставку скоростных трамваев...        0   \n",
       "4     Против Навального завели дело о недоносительст...        1   \n",
       "...                                                 ...      ...   \n",
       "5753  Эдди Чемберс получил сотрясение мозга в бою с ...        0   \n",
       "5754  Правительство застроит Россию нефтепродуктопро...        0   \n",
       "5755  «Мне стыдно перед дедом»: новый канцлер ФРГ об...        1   \n",
       "5756   Туркмения в декабре начнет поставки газа в Китай        0   \n",
       "5757  Бывший тренер Локомотива возглавил нальчикский...        0   \n",
       "\n",
       "                                            clean_title  person  organization  \\\n",
       "0     Москвичу Владимиру Клутину пришёл счёт вмешате...       1             0   \n",
       "1     Агент Кокорина назвал езду встречке житейской ...       1             0   \n",
       "2     Госдума рассмотрит возможность введения секрет...       0             1   \n",
       "3     ФАС заблокировала поставку скоростных трамваев...       0             1   \n",
       "4     Против Навального завели дело недоносительстве...       2             0   \n",
       "...                                                 ...     ...           ...   \n",
       "5753   Эдди Чемберс получил сотрясение мозга бою Кличко       2             0   \n",
       "5754  Правительство застроит Россию нефтепродуктопро...       0             0   \n",
       "5755  стыдно дедом новый канцлер ФРГ обратился перво...       1             0   \n",
       "5756       Туркмения декабре начнет поставки газа Китай       0             0   \n",
       "5757  Бывший тренер Локомотива возглавил нальчикский...       0             2   \n",
       "\n",
       "      location  \n",
       "0            0  \n",
       "1            0  \n",
       "2            0  \n",
       "3            1  \n",
       "4            0  \n",
       "...        ...  \n",
       "5753         0  \n",
       "5754         1  \n",
       "5755         1  \n",
       "5756         2  \n",
       "5757         0  \n",
       "\n",
       "[5758 rows x 6 columns]"
      ]
     },
     "execution_count": 30,
     "metadata": {},
     "output_type": "execute_result"
    }
   ],
   "source": [
    "train_df[['person','organization' , 'location']] = train_df['title'].apply(lambda x: get_ner(x)).fillna(0).astype(int)"
   ]
  },
  {
   "cell_type": "code",
   "execution_count": 31,
   "metadata": {},
   "outputs": [],
   "source": [
    "train_df['word_count'] = train_df['clean_title'].apply(lambda x: len(str(x).split()))\n",
    "# вероятно будут слишком сильно коррелировать поэтому нужно убрать что-то одно\n",
    "train_df['mean_word_length'] = train_df['clean_title'].apply(lambda x: np.mean([len(w) for w in str(x).split()]))\n",
    "train_df['char_count'] = train_df['title'].apply(lambda x: len(str(x)))"
   ]
  },
  {
   "cell_type": "code",
   "execution_count": 32,
   "metadata": {},
   "outputs": [
    {
     "data": {
      "text/html": [
       "<div>\n",
       "<style scoped>\n",
       "    .dataframe tbody tr th:only-of-type {\n",
       "        vertical-align: middle;\n",
       "    }\n",
       "\n",
       "    .dataframe tbody tr th {\n",
       "        vertical-align: top;\n",
       "    }\n",
       "\n",
       "    .dataframe thead th {\n",
       "        text-align: right;\n",
       "    }\n",
       "</style>\n",
       "<table border=\"1\" class=\"dataframe\">\n",
       "  <thead>\n",
       "    <tr style=\"text-align: right;\">\n",
       "      <th></th>\n",
       "      <th>title</th>\n",
       "      <th>is_fake</th>\n",
       "      <th>clean_title</th>\n",
       "      <th>person</th>\n",
       "      <th>organization</th>\n",
       "      <th>location</th>\n",
       "      <th>word_count</th>\n",
       "      <th>mean_word_length</th>\n",
       "      <th>char_count</th>\n",
       "    </tr>\n",
       "  </thead>\n",
       "  <tbody>\n",
       "    <tr>\n",
       "      <th>0</th>\n",
       "      <td>Москвичу Владимиру Клутину пришёл счёт за вмеш...</td>\n",
       "      <td>1</td>\n",
       "      <td>Москвичу Владимиру Клутину пришёл счёт вмешате...</td>\n",
       "      <td>1</td>\n",
       "      <td>0</td>\n",
       "      <td>0</td>\n",
       "      <td>8</td>\n",
       "      <td>8.125000</td>\n",
       "      <td>77</td>\n",
       "    </tr>\n",
       "    <tr>\n",
       "      <th>1</th>\n",
       "      <td>Агент Кокорина назвал езду по встречке житейск...</td>\n",
       "      <td>0</td>\n",
       "      <td>Агент Кокорина назвал езду встречке житейской ...</td>\n",
       "      <td>1</td>\n",
       "      <td>0</td>\n",
       "      <td>0</td>\n",
       "      <td>7</td>\n",
       "      <td>6.857143</td>\n",
       "      <td>57</td>\n",
       "    </tr>\n",
       "    <tr>\n",
       "      <th>2</th>\n",
       "      <td>Госдума рассмотрит возможность введения секрет...</td>\n",
       "      <td>1</td>\n",
       "      <td>Госдума рассмотрит возможность введения секрет...</td>\n",
       "      <td>0</td>\n",
       "      <td>1</td>\n",
       "      <td>0</td>\n",
       "      <td>8</td>\n",
       "      <td>8.500000</td>\n",
       "      <td>75</td>\n",
       "    </tr>\n",
       "    <tr>\n",
       "      <th>3</th>\n",
       "      <td>ФАС заблокировала поставку скоростных трамваев...</td>\n",
       "      <td>0</td>\n",
       "      <td>ФАС заблокировала поставку скоростных трамваев...</td>\n",
       "      <td>0</td>\n",
       "      <td>1</td>\n",
       "      <td>1</td>\n",
       "      <td>6</td>\n",
       "      <td>8.000000</td>\n",
       "      <td>57</td>\n",
       "    </tr>\n",
       "    <tr>\n",
       "      <th>4</th>\n",
       "      <td>Против Навального завели дело о недоносительст...</td>\n",
       "      <td>1</td>\n",
       "      <td>Против Навального завели дело недоносительстве...</td>\n",
       "      <td>2</td>\n",
       "      <td>0</td>\n",
       "      <td>0</td>\n",
       "      <td>6</td>\n",
       "      <td>8.166667</td>\n",
       "      <td>59</td>\n",
       "    </tr>\n",
       "    <tr>\n",
       "      <th>...</th>\n",
       "      <td>...</td>\n",
       "      <td>...</td>\n",
       "      <td>...</td>\n",
       "      <td>...</td>\n",
       "      <td>...</td>\n",
       "      <td>...</td>\n",
       "      <td>...</td>\n",
       "      <td>...</td>\n",
       "      <td>...</td>\n",
       "    </tr>\n",
       "    <tr>\n",
       "      <th>5753</th>\n",
       "      <td>Эдди Чемберс получил сотрясение мозга в бою с ...</td>\n",
       "      <td>0</td>\n",
       "      <td>Эдди Чемберс получил сотрясение мозга бою Кличко</td>\n",
       "      <td>2</td>\n",
       "      <td>0</td>\n",
       "      <td>0</td>\n",
       "      <td>7</td>\n",
       "      <td>6.000000</td>\n",
       "      <td>52</td>\n",
       "    </tr>\n",
       "    <tr>\n",
       "      <th>5754</th>\n",
       "      <td>Правительство застроит Россию нефтепродуктопро...</td>\n",
       "      <td>0</td>\n",
       "      <td>Правительство застроит Россию нефтепродуктопро...</td>\n",
       "      <td>0</td>\n",
       "      <td>0</td>\n",
       "      <td>1</td>\n",
       "      <td>4</td>\n",
       "      <td>12.250000</td>\n",
       "      <td>52</td>\n",
       "    </tr>\n",
       "    <tr>\n",
       "      <th>5755</th>\n",
       "      <td>«Мне стыдно перед дедом»: новый канцлер ФРГ об...</td>\n",
       "      <td>1</td>\n",
       "      <td>стыдно дедом новый канцлер ФРГ обратился перво...</td>\n",
       "      <td>1</td>\n",
       "      <td>0</td>\n",
       "      <td>1</td>\n",
       "      <td>9</td>\n",
       "      <td>6.222222</td>\n",
       "      <td>81</td>\n",
       "    </tr>\n",
       "    <tr>\n",
       "      <th>5756</th>\n",
       "      <td>Туркмения в декабре начнет поставки газа в Китай</td>\n",
       "      <td>0</td>\n",
       "      <td>Туркмения декабре начнет поставки газа Китай</td>\n",
       "      <td>0</td>\n",
       "      <td>0</td>\n",
       "      <td>2</td>\n",
       "      <td>6</td>\n",
       "      <td>6.500000</td>\n",
       "      <td>48</td>\n",
       "    </tr>\n",
       "    <tr>\n",
       "      <th>5757</th>\n",
       "      <td>Бывший тренер Локомотива возглавил нальчикский...</td>\n",
       "      <td>0</td>\n",
       "      <td>Бывший тренер Локомотива возглавил нальчикский...</td>\n",
       "      <td>0</td>\n",
       "      <td>2</td>\n",
       "      <td>0</td>\n",
       "      <td>6</td>\n",
       "      <td>8.166667</td>\n",
       "      <td>54</td>\n",
       "    </tr>\n",
       "  </tbody>\n",
       "</table>\n",
       "<p>5758 rows × 9 columns</p>\n",
       "</div>"
      ],
      "text/plain": [
       "                                                  title  is_fake  \\\n",
       "0     Москвичу Владимиру Клутину пришёл счёт за вмеш...        1   \n",
       "1     Агент Кокорина назвал езду по встречке житейск...        0   \n",
       "2     Госдума рассмотрит возможность введения секрет...        1   \n",
       "3     ФАС заблокировала поставку скоростных трамваев...        0   \n",
       "4     Против Навального завели дело о недоносительст...        1   \n",
       "...                                                 ...      ...   \n",
       "5753  Эдди Чемберс получил сотрясение мозга в бою с ...        0   \n",
       "5754  Правительство застроит Россию нефтепродуктопро...        0   \n",
       "5755  «Мне стыдно перед дедом»: новый канцлер ФРГ об...        1   \n",
       "5756   Туркмения в декабре начнет поставки газа в Китай        0   \n",
       "5757  Бывший тренер Локомотива возглавил нальчикский...        0   \n",
       "\n",
       "                                            clean_title  person  organization  \\\n",
       "0     Москвичу Владимиру Клутину пришёл счёт вмешате...       1             0   \n",
       "1     Агент Кокорина назвал езду встречке житейской ...       1             0   \n",
       "2     Госдума рассмотрит возможность введения секрет...       0             1   \n",
       "3     ФАС заблокировала поставку скоростных трамваев...       0             1   \n",
       "4     Против Навального завели дело недоносительстве...       2             0   \n",
       "...                                                 ...     ...           ...   \n",
       "5753   Эдди Чемберс получил сотрясение мозга бою Кличко       2             0   \n",
       "5754  Правительство застроит Россию нефтепродуктопро...       0             0   \n",
       "5755  стыдно дедом новый канцлер ФРГ обратился перво...       1             0   \n",
       "5756       Туркмения декабре начнет поставки газа Китай       0             0   \n",
       "5757  Бывший тренер Локомотива возглавил нальчикский...       0             2   \n",
       "\n",
       "      location  word_count  mean_word_length  char_count  \n",
       "0            0           8          8.125000          77  \n",
       "1            0           7          6.857143          57  \n",
       "2            0           8          8.500000          75  \n",
       "3            1           6          8.000000          57  \n",
       "4            0           6          8.166667          59  \n",
       "...        ...         ...               ...         ...  \n",
       "5753         0           7          6.000000          52  \n",
       "5754         1           4         12.250000          52  \n",
       "5755         1           9          6.222222          81  \n",
       "5756         2           6          6.500000          48  \n",
       "5757         0           6          8.166667          54  \n",
       "\n",
       "[5758 rows x 9 columns]"
      ]
     },
     "execution_count": 32,
     "metadata": {},
     "output_type": "execute_result"
    }
   ],
   "source": [
    "train_df"
   ]
  },
  {
   "cell_type": "markdown",
   "metadata": {
    "collapsed": false,
    "pycharm": {
     "name": "#%% md\n"
    }
   },
   "source": [
    "# Pipeline"
   ]
  },
  {
   "cell_type": "code",
   "execution_count": 54,
   "metadata": {},
   "outputs": [
    {
     "name": "stdout",
     "output_type": "stream",
     "text": [
      "(5758, 7)\n",
      "(5758,)\n"
     ]
    }
   ],
   "source": [
    "y = train_df['is_fake']\n",
    "train =  train_df.drop(columns=['is_fake', 'title'])\n",
    "print(train.shape)\n",
    "print(y.shape)"
   ]
  },
  {
   "cell_type": "code",
   "execution_count": 64,
   "metadata": {
    "collapsed": false,
    "pycharm": {
     "name": "#%%\n"
    }
   },
   "outputs": [],
   "source": [
    "from sklearn.naive_bayes import MultinomialNB\n",
    "from sklearn.linear_model import LogisticRegression\n",
    "from sklearn.feature_extraction.text import CountVectorizer, TfidfTransformer, TfidfVectorizer\n",
    "from sklearn.pipeline import Pipeline\n",
    "from sklearn.model_selection import StratifiedKFold\n",
    "from sklearn import model_selection\n",
    "from sklearn.compose import ColumnTransformer\n",
    "preprocessor = ColumnTransformer(\n",
    "    transformers=[\n",
    "        ('title_bow', CountVectorizer(), 'clean_title'),\n",
    "    ], remainder='passthrough', sparse_threshold=0\n",
    ")\n",
    "cv = StratifiedKFold(n_splits=3, shuffle=True, random_state=42)\n",
    "pipe1 = Pipeline([('preprocessor', preprocessor),   \n",
    "                 ('model', MultinomialNB())])\n",
    "# Vectorizer(Count, tfidf, both), model(Bayes, SVD, LogReg, word2vec*, nn*), * different preprocessing"
   ]
  },
  {
   "cell_type": "code",
   "execution_count": 65,
   "metadata": {},
   "outputs": [
    {
     "name": "stdout",
     "output_type": "stream",
     "text": [
      "['preprocessor__title_bow', 'preprocessor__title_bow__analyzer', 'preprocessor__title_bow__binary', 'preprocessor__title_bow__decode_error', 'preprocessor__title_bow__dtype', 'preprocessor__title_bow__encoding', 'preprocessor__title_bow__input', 'preprocessor__title_bow__lowercase', 'preprocessor__title_bow__max_df', 'preprocessor__title_bow__max_features', 'preprocessor__title_bow__min_df', 'preprocessor__title_bow__ngram_range', 'preprocessor__title_bow__preprocessor', 'preprocessor__title_bow__stop_words', 'preprocessor__title_bow__strip_accents', 'preprocessor__title_bow__token_pattern', 'preprocessor__title_bow__tokenizer', 'preprocessor__title_bow__vocabulary']\n"
     ]
    }
   ],
   "source": [
    "def check_params_exist(esitmator, params_keyword):\n",
    "    all_params = esitmator.get_params().keys()\n",
    "    available_params = [x for x in all_params if params_keyword in x]\n",
    "    if len(available_params)==0:\n",
    "        return \"No matching params found!\"\n",
    "    else:\n",
    "        return available_params\n",
    "print(check_params_exist(pipe1, 'title_bow'))"
   ]
  },
  {
   "cell_type": "code",
   "execution_count": 63,
   "metadata": {
    "collapsed": false,
    "pycharm": {
     "name": "#%%\n"
    }
   },
   "outputs": [
    {
     "data": {
      "text/plain": [
       "array([0.82053571, 0.81922399, 0.82258782])"
      ]
     },
     "execution_count": 63,
     "metadata": {},
     "output_type": "execute_result"
    }
   ],
   "source": [
    "model_selection.cross_val_score(pipe1, train, y, cv=cv, n_jobs=-1, scoring='f1')"
   ]
  },
  {
   "cell_type": "code",
   "execution_count": 33,
   "metadata": {
    "collapsed": false,
    "pycharm": {
     "name": "#%%\n"
    }
   },
   "outputs": [
    {
     "data": {
      "text/plain": [
       "array([0.81558442, 0.81515617, 0.81295716])"
      ]
     },
     "execution_count": 33,
     "metadata": {},
     "output_type": "execute_result"
    }
   ],
   "source": [
    "model_selection.cross_val_score(pipe2, train_df['clean_title'], train_df['is_fake'], cv=cv, n_jobs=-1, scoring='f1')"
   ]
  },
  {
   "cell_type": "code",
   "execution_count": 50,
   "metadata": {
    "collapsed": false,
    "pycharm": {
     "name": "#%%\n"
    }
   },
   "outputs": [],
   "source": [
    "# perform cross validation with metrics\n",
    "from sklearn.metrics import classification_report, f1_score, confusion_matrix\n",
    "def perform_fit(pipe : Pipeline, data : pd.Series, target : pd.Series):\n",
    "    kfold = StratifiedKFold(n_splits=3, shuffle=True, random_state=42)\n",
    "    for fold, (train_ids, valid_ids) in enumerate(kfold.split(data, target)):\n",
    "        pipe.fit(data.loc[train_ids], target.loc[train_ids])\n",
    "        y_true = target.loc[valid_ids]\n",
    "        preds = pipe.predict(data.loc[valid_ids])\n",
    "        print(f\"Classification report for fold - {fold}\")\n",
    "        print(\"F1 score - \", round(f1_score(y_true, preds), 4))\n",
    "        print(\"Conf matrix:\")\n",
    "        print(confusion_matrix(y_true, preds))\n",
    "        # print(classification_report(, preds, target_names=['not fake', 'fake']))"
   ]
  },
  {
   "cell_type": "markdown",
   "metadata": {
    "collapsed": false,
    "pycharm": {
     "name": "#%% md\n"
    }
   },
   "source": [
    "# Test vectorization\n",
    "https://andhint.github.io/machine-learning/nlp/Feature-Extraction-From-Text/"
   ]
  },
  {
   "cell_type": "code",
   "execution_count": 51,
   "metadata": {
    "collapsed": false,
    "pycharm": {
     "name": "#%%\n"
    }
   },
   "outputs": [
    {
     "name": "stdout",
     "output_type": "stream",
     "text": [
      "Classification report for fold - 0\n",
      "F1 score -  0.8289\n",
      "Conf matrix:\n",
      "[[746 214]\n",
      " [129 831]]\n",
      "Classification report for fold - 1\n",
      "F1 score -  0.8265\n",
      "Conf matrix:\n",
      "[[742 217]\n",
      " [131 829]]\n",
      "Classification report for fold - 2\n",
      "F1 score -  0.8287\n",
      "Conf matrix:\n",
      "[[743 217]\n",
      " [127 832]]\n"
     ]
    }
   ],
   "source": [
    "pipe = Pipeline([('bow', CountVectorizer()),\n",
    "                 # ('tfid', TfidfTransformer()),\n",
    "                 ('model', MultinomialNB())])\n",
    "perform_fit(pipe, train_df['clean_title'], train_df['is_fake'])"
   ]
  },
  {
   "cell_type": "code",
   "execution_count": 59,
   "metadata": {
    "collapsed": false,
    "pycharm": {
     "name": "#%%\n"
    }
   },
   "outputs": [
    {
     "name": "stdout",
     "output_type": "stream",
     "text": [
      "Best parameter (CV score=0.829):\n",
      "{'bow__max_df': 0.1, 'bow__min_df': 1, 'bow__ngram_range': (1, 3)}\n"
     ]
    }
   ],
   "source": [
    "from sklearn.model_selection import GridSearchCV\n",
    "pipe = Pipeline([('bow', CountVectorizer()),\n",
    "                 # ('tfid', TfidfTransformer()),\n",
    "                 ('model', MultinomialNB())])\n",
    "param_grid = {\n",
    "    \"bow__ngram_range\": [(1, 1), (1, 2), (1, 3), (2, 3)],\n",
    "    \"bow__max_df\": [0.01, 0.1, 0.2, 0.3, 0.4, 0.5, 0.7, 0.8, 1.0],\n",
    "    \"bow__min_df\": [2, 3, 4, 1],\n",
    "    # \"bow__max_features\": [2, 3, 4],\n",
    "}\n",
    "search = GridSearchCV(pipe, param_grid, cv=cv, scoring='f1' ,n_jobs=-1)\n",
    "search.fit(train_df['clean_title'], train_df['is_fake'])\n",
    "print(\"Best parameter (CV score=%0.3f):\" % search.best_score_)\n",
    "print(search.best_params_)\n",
    "# вывод по max_df - очень малое кол-во слов отличает fake от не fake"
   ]
  },
  {
   "cell_type": "code",
   "execution_count": 61,
   "metadata": {
    "collapsed": false,
    "pycharm": {
     "name": "#%%\n"
    }
   },
   "outputs": [
    {
     "name": "stdout",
     "output_type": "stream",
     "text": [
      "Best parameter (CV score=0.830):\n",
      "{'bow__max_df': 0.1, 'bow__min_df': 1, 'bow__ngram_range': (1, 3)}\n"
     ]
    }
   ],
   "source": [
    "from sklearn.model_selection import GridSearchCV\n",
    "pipe = Pipeline([('bow', CountVectorizer()),\n",
    "                 ('tfid', TfidfTransformer()),\n",
    "                 ('model', MultinomialNB())])\n",
    "param_grid = {\n",
    "    \"bow__ngram_range\": [(1, 1), (1, 2), (1, 3), (2, 3)],\n",
    "    \"bow__max_df\": [0.01, 0.1, 0.2, 0.3, 0.4, 0.5, 0.7, 0.8, 1.0],\n",
    "    \"bow__min_df\": [2, 3, 4, 1],\n",
    "    # \"bow__max_features\": [2, 3, 4],\n",
    "}\n",
    "search = GridSearchCV(pipe, param_grid, cv=cv, scoring='f1' ,n_jobs=-1)\n",
    "search.fit(train_df['clean_title'], train_df['is_fake'])\n",
    "print(\"Best parameter (CV score=%0.3f):\" % search.best_score_)\n",
    "print(search.best_params_)"
   ]
  },
  {
   "cell_type": "code",
   "execution_count": 64,
   "metadata": {
    "collapsed": false,
    "pycharm": {
     "name": "#%%\n"
    }
   },
   "outputs": [
    {
     "name": "stdout",
     "output_type": "stream",
     "text": [
      "Classification report for fold - 0\n",
      "F1 score -  0.8332\n",
      "Conf matrix:\n",
      "[[755 205]\n",
      " [128 832]]\n",
      "False positive\n"
     ]
    },
    {
     "data": {
      "text/plain": [
       "14            Режиссера Алексея Германа наградили орденом\n",
       "35       U2 Metallica сыграют юбилее Зала славы рокнролла\n",
       "81            Польше готовятся издать поэму Папы Римского\n",
       "83      Олимпийские винтовки Бьорндалена ошибке отправ...\n",
       "158     Правительство России дорого заплатит федеральн...\n",
       "                              ...                        \n",
       "5708    Шарон Стоун Джо Пеши сыграли самую худшую любо...\n",
       "5712     Сотрудники МВД пришли документами Росстрахнадзор\n",
       "5732                Вдова Джорджа Харрисона посвятила сад\n",
       "5733    Силуанов пересчитал оставшиеся резервах России...\n",
       "5754    Правительство застроит Россию нефтепродуктопро...\n",
       "Name: clean_title, Length: 205, dtype: object"
      ]
     },
     "metadata": {},
     "output_type": "display_data"
    },
    {
     "name": "stdout",
     "output_type": "stream",
     "text": [
      "False negative\n"
     ]
    },
    {
     "data": {
      "text/plain": [
       "30      Ольгино объяснили большое количество комментар...\n",
       "75      Минэнерго ФРГ выпустило обучающие ролики пошив...\n",
       "113                   Domestos разработает свой антивирус\n",
       "145     известной картине Леонардо Винчи обнаружили QRкод\n",
       "146     “Дальше Божьей помощью” Москве мужчину пустили...\n",
       "                              ...                        \n",
       "5531    Автором экстремистского произведения Протоколы...\n",
       "5601    приема беженцев Литве восстановлена инфраcтрук...\n",
       "5611     Великобритании начали разыгрывать бензин лотерею\n",
       "5742    Газпром Минцифры запускают конкурс самый зрели...\n",
       "5755    стыдно дедом новый канцлер ФРГ обратился перво...\n",
       "Name: clean_title, Length: 128, dtype: object"
      ]
     },
     "metadata": {},
     "output_type": "display_data"
    }
   ],
   "source": [
    "\n",
    "\n",
    "from IPython.core.display_functions import display\n",
    "\n",
    "pipe = Pipeline([('bow', CountVectorizer(max_df=0.1, ngram_range=(1, 3))),\n",
    "                 ('tfid', TfidfTransformer()),\n",
    "                 ('model', MultinomialNB())])\n",
    "data = train_df['clean_title']\n",
    "target = train_df['is_fake']\n",
    "for fold, (train_ids, valid_ids) in enumerate(cv.split(data, target)):\n",
    "    pipe.fit(data.loc[train_ids], target.loc[train_ids])\n",
    "    y_true = target.loc[valid_ids]\n",
    "    test = data.loc[valid_ids]\n",
    "    preds = pipe.predict(test)\n",
    "    print(f\"Classification report for fold - {fold}\")\n",
    "    print(\"F1 score - \", round(f1_score(y_true, preds), 4))\n",
    "    print(\"Conf matrix:\")\n",
    "    print(confusion_matrix(y_true, preds))\n",
    "    print(\"False positive\")\n",
    "    display(test[preds > y_true])\n",
    "    print(\"False negative\")\n",
    "    display(test[preds < y_true])\n",
    "    break"
   ]
  },
  {
   "cell_type": "code",
   "execution_count": 67,
   "metadata": {
    "collapsed": false,
    "pycharm": {
     "name": "#%%\n"
    }
   },
   "outputs": [
    {
     "name": "stdout",
     "output_type": "stream",
     "text": [
      "Testing pipe - Pipeline(steps=[('pre',\n",
      "                 ColumnTransformer(remainder='passthrough', sparse_threshold=0,\n",
      "                                   transformers=[('bow', CountVectorizer(),\n",
      "                                                  'clean_title')])),\n",
      "                ('nb', MultinomialNB())])\n",
      "{'pre__bow__ngram_range': [(1, 1), (1, 2), (1, 3)], 'pre__bow__max_df': [0.1, 0.2, 0.5, 1.0], 'pre__bow__min_df': [1], 'nb__alpha': [1.0, 1.2, 1.5, 2.0, 3.0, 4.0]}\n",
      "Best parameter (CV score=0.821): +- 0.047320427391588975\n",
      "{'nb__alpha': 1.0, 'pre__bow__max_df': 0.1, 'pre__bow__min_df': 1, 'pre__bow__ngram_range': (1, 1)}\n",
      "Time -  133.51488876342773\n",
      "Testing pipe - Pipeline(steps=[('pre',\n",
      "                 ColumnTransformer(remainder='passthrough', sparse_threshold=0,\n",
      "                                   transformers=[('bow', CountVectorizer(),\n",
      "                                                  'clean_title')])),\n",
      "                ('lr', LogisticRegression())])\n",
      "{'pre__bow__ngram_range': [(1, 1), (1, 2), (1, 3)], 'pre__bow__max_df': [0.1, 0.2, 0.5, 1.0], 'pre__bow__min_df': [1], 'lr__penalty': ['l1', 'l2'], 'lr__solver': ['liblinear'], 'lr__C': [0.01, 0.021544346900318832, 0.046415888336127774, 0.1, 0.21544346900318834, 0.46415888336127775, 1.0, 2.154434690031882, 4.6415888336127775, 10.0], 'lr__random_state': [42]}\n"
     ]
    }
   ],
   "source": [
    "import time\n",
    "from sklearn.svm import SVC\n",
    "from sklearn.model_selection import GridSearchCV\n",
    "from sklearn.naive_bayes import MultinomialNB\n",
    "from sklearn.linear_model import LogisticRegression\n",
    "from sklearn.feature_extraction.text import CountVectorizer, TfidfTransformer, TfidfVectorizer\n",
    "from sklearn.pipeline import Pipeline\n",
    "from sklearn.model_selection import StratifiedKFold\n",
    "import numpy as np\n",
    "import pickle\n",
    "\n",
    "cv = StratifiedKFold(n_splits=3, shuffle=True, random_state=42)\n",
    "\n",
    "preprocessor_cv = ColumnTransformer(\n",
    "    transformers=[\n",
    "        ('bow', CountVectorizer(), 'clean_title'),\n",
    "    ], remainder='passthrough', sparse_threshold=0\n",
    ")\n",
    "preprocessor_tf = ColumnTransformer(\n",
    "    transformers=[\n",
    "        ('bow', TfidfVectorizer(), 'clean_title'),\n",
    "    ], remainder='passthrough', sparse_threshold=0\n",
    ")\n",
    "pipe_bow = [(\"pre\", preprocessor_cv), (\"pre\", preprocessor_tf)]\n",
    "\n",
    "bow_param_grid = {\n",
    "    \"pre__bow__ngram_range\": [(1, 1), (1, 2), (1, 3)],\n",
    "    # \"bow__ngram_range\": [(1, 1), (1, 2), (1, 3), (2, 3)],\n",
    "    \"pre__bow__max_df\": [0.1, 0.2, 0.5, 1.0],\n",
    "    # \"bow__max_df\": [0.01, 0.1, 0.2, 0.3, 0.4, 0.5, 0.7, 0.8, 1.0],\n",
    "    # \"bow__min_df\": [2, 3, 4, 1],\n",
    "    \"pre__bow__min_df\": [1],\n",
    "    # \"bow__max_features\": [2, 3, 4],\n",
    "}\n",
    "pipe_classifier = [('nb', MultinomialNB()), ('lr', LogisticRegression()), ('svc', SVC())]\n",
    "class_grid = {\n",
    "    'nb' : {\n",
    "        \"nb__alpha\" : [1., 1.2, 1.5, 2., 3., 4.]\n",
    "    },\n",
    "    'lr': {\n",
    "        \"lr__penalty\" : ['l1', 'l2'],\n",
    "        \"lr__solver\" : ['liblinear'],\n",
    "        # \"lr__max_iter\" : [100, 200, 300],\n",
    "        \"lr__C\" : list(np.logspace(-2, 1, num=10)),\n",
    "        \"lr__random_state\" : [42],\n",
    "    },\n",
    "    'svc': {\n",
    "        \"svc__C\" : list(np.logspace(-2, 1, num=10)),\n",
    "        \"svc__kernel\" : ['linear', 'poly', 'sigmoid'],\n",
    "        \"svc__degree\" : [2, 3],\n",
    "    }\n",
    "}\n",
    "searches = []\n",
    "for bow in pipe_bow:\n",
    "    for cls_ in pipe_classifier:\n",
    "        pipe = Pipeline([bow, cls_])\n",
    "        param_grid = {**bow_param_grid , **class_grid[cls_[0]]}\n",
    "        print(f\"Testing pipe - {pipe}\")\n",
    "        print(param_grid)\n",
    "        search = GridSearchCV(pipe, param_grid, cv=cv, scoring='f1' ,n_jobs=-1)\n",
    "        start = time.time()\n",
    "        search.fit(train, y)\n",
    "        print(f\"Best parameter (CV score={search.best_score_:.3f}): +- {np.std(search.cv_results_['mean_test_score'])}\")\n",
    "        print(search.best_params_)\n",
    "        print(\"Time - \", time.time() - start)\n",
    "        searches.append(search)\n",
    "\n",
    "with open(\"searches.pkl\", 'wb') as f:\n",
    "    pickle.dump(searches, f)"
   ]
  },
  {
   "cell_type": "code",
   "execution_count": 19,
   "metadata": {
    "collapsed": false,
    "pycharm": {
     "name": "#%%\n"
    }
   },
   "outputs": [
    {
     "name": "stdout",
     "output_type": "stream",
     "text": [
      "Best parameter (CV score=nan): +- nan\n"
     ]
    },
    {
     "name": "stderr",
     "output_type": "stream",
     "text": [
      "W:\\Work\\Anaconda\\envs\\TORCHGPU\\lib\\site-packages\\sklearn\\model_selection\\_search.py:969: UserWarning: One or more of the test scores are non-finite: [nan nan nan nan nan nan nan nan nan nan nan nan nan nan nan nan nan nan\n",
      " nan nan]\n",
      "  warnings.warn(\n"
     ]
    }
   ],
   "source": [
    "pipe = Pipeline([(\"bow\", VecTfidfTransformer()), ('lr', LogisticRegression())])\n",
    "param_grid = {\"lr__penalty\": ['l1', 'l2'],\n",
    " \"lr__solver\": ['liblinear'],\n",
    " # \"lr__max_iter\" : [100, 200, 300],\n",
    " \"lr__C\": list(np.logspace(-2, 1, num=10)),\n",
    " \"lr__random_state\": [42],\n",
    " }\n",
    "search = GridSearchCV(pipe, param_grid, cv=cv, scoring='f1', n_jobs=-1)\n",
    "start = time.time()\n",
    "search.fit(train_df['clean_title'], train_df['is_fake'])\n",
    "print(f\"Best parameter (CV score={search.best_score_:.3f}): +- {np.std(search.cv_results_['mean_test_score'])}\")"
   ]
  },
  {
   "cell_type": "code",
   "execution_count": 23,
   "metadata": {
    "collapsed": false,
    "pycharm": {
     "name": "#%%\n"
    }
   },
   "outputs": [
    {
     "name": "stdout",
     "output_type": "stream",
     "text": [
      "  (0, 8615)\t1\n",
      "  (0, 2653)\t1\n",
      "  (0, 6723)\t1\n",
      "  (0, 12805)\t1\n",
      "  (0, 15919)\t1\n",
      "  (0, 2677)\t1\n",
      "  (0, 1113)\t1\n",
      "  (0, 3120)\t1\n",
      "  (1, 921)\t1\n",
      "  (1, 6773)\t1\n",
      "  (1, 8852)\t1\n",
      "  (1, 4946)\t1\n",
      "  (1, 3052)\t1\n",
      "  (1, 5094)\t1\n",
      "  (1, 6219)\t1\n",
      "  (2, 3804)\t1\n",
      "  (2, 13607)\t1\n",
      "  (2, 2809)\t1\n",
      "  (2, 2323)\t1\n",
      "  (2, 14571)\t1\n",
      "  (2, 15632)\t1\n",
      "  (2, 16692)\t1\n",
      "  (2, 6764)\t1\n",
      "  (3, 17173)\t1\n",
      "  (3, 5144)\t1\n",
      "  :\t:\n",
      "  (5754, 12283)\t1\n",
      "  (5754, 14061)\t1\n",
      "  (5754, 5536)\t1\n",
      "  (5754, 9396)\t1\n",
      "  (5755, 17405)\t1\n",
      "  (5755, 6411)\t1\n",
      "  (5755, 9520)\t1\n",
      "  (5755, 9761)\t1\n",
      "  (5755, 10947)\t1\n",
      "  (5755, 15792)\t1\n",
      "  (5755, 4198)\t1\n",
      "  (5755, 13871)\t1\n",
      "  (5755, 2143)\t1\n",
      "  (5756, 3438)\t1\n",
      "  (5756, 9129)\t1\n",
      "  (5756, 6651)\t1\n",
      "  (5756, 12098)\t1\n",
      "  (5756, 4208)\t1\n",
      "  (5756, 16568)\t1\n",
      "  (5757, 2177)\t1\n",
      "  (5757, 16427)\t1\n",
      "  (5757, 2783)\t1\n",
      "  (5757, 15381)\t1\n",
      "  (5757, 7723)\t1\n",
      "  (5757, 8933)\t1\n"
     ]
    }
   ],
   "source": [
    "print(VecTfidfTransformer().fit_transform(train_df['clean_title']))"
   ]
  },
  {
   "cell_type": "code",
   "execution_count": null,
   "metadata": {
    "collapsed": false,
    "pycharm": {
     "name": "#%%\n"
    }
   },
   "outputs": [],
   "source": []
  }
 ],
 "metadata": {
  "kernelspec": {
   "display_name": "Python 3",
   "language": "python",
   "name": "python3"
  },
  "language_info": {
   "codemirror_mode": {
    "name": "ipython",
    "version": 2
   },
   "file_extension": ".py",
   "mimetype": "text/x-python",
   "name": "python",
   "nbconvert_exporter": "python",
   "pygments_lexer": "ipython2",
   "version": "3.8.13"
  }
 },
 "nbformat": 4,
 "nbformat_minor": 0
}
